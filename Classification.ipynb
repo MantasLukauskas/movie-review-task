{
 "cells": [
  {
   "cell_type": "markdown",
   "metadata": {},
   "source": [
    "Importing modules"
   ]
  },
  {
   "cell_type": "code",
   "execution_count": 1,
   "metadata": {},
   "outputs": [
    {
     "name": "stdout",
     "output_type": "stream",
     "text": [
      "[nltk_data] Downloading package stopwords to C:\\Users\\Mantas\n",
      "[nltk_data]     Lukauskas\\AppData\\Roaming\\nltk_data...\n",
      "[nltk_data]   Package stopwords is already up-to-date!\n",
      "[nltk_data] Downloading package wordnet to C:\\Users\\Mantas\n",
      "[nltk_data]     Lukauskas\\AppData\\Roaming\\nltk_data...\n",
      "[nltk_data]   Package wordnet is already up-to-date!\n"
     ]
    }
   ],
   "source": [
    "import pandas as pd\n",
    "import numpy as np  \n",
    "import re  \n",
    "import nltk  \n",
    "from sklearn.datasets import load_files  \n",
    "nltk.download('stopwords')  \n",
    "import pickle  \n",
    "from nltk.corpus import stopwords  \n",
    "nltk.download('wordnet')\n",
    "import time\n",
    "import matplotlib.pyplot as plt\n",
    "from collections import Counter\n",
    "from sklearn.feature_extraction.text import TfidfVectorizer \n",
    "from sklearn.pipeline import Pipeline\n",
    "from sklearn.model_selection import GridSearchCV\n",
    "\n",
    "# Importing methods\n",
    "from sklearn.neighbors import KNeighborsClassifier\n",
    "from sklearn.ensemble import RandomForestClassifier"
   ]
  },
  {
   "cell_type": "markdown",
   "metadata": {},
   "source": [
    "Reading files and concat them into one"
   ]
  },
  {
   "cell_type": "code",
   "execution_count": 2,
   "metadata": {},
   "outputs": [],
   "source": [
    "colnames =[\"Review\"]\n",
    "pos_review = pd.read_csv(\"Raw data/rt-polarity_pos.csv\", names=colnames, sep='|', encoding='latin-1')\n",
    "pos_review[\"Class\"] = 1\n",
    "neg_review = pd.read_csv(\"Raw data/rt-polarity_neg.csv\", names=colnames, sep='|', encoding='latin-1')\n",
    "neg_review[\"Class\"] = 0\n",
    "reviews = pd.concat([pos_review, neg_review], ignore_index=True)"
   ]
  },
  {
   "cell_type": "markdown",
   "metadata": {},
   "source": [
    "Information about Class distribution"
   ]
  },
  {
   "cell_type": "code",
   "execution_count": 3,
   "metadata": {},
   "outputs": [
    {
     "data": {
      "image/png": "[encoded data removed]",
      "text/plain": [
       "<Figure size 600x400 with 1 Axes>"
      ]
     },
     "metadata": {
      "needs_background": "light"
     },
     "output_type": "display_data"
    }
   ],
   "source": [
    "counter = Counter(reviews[\"Class\"])\n",
    "fig, ax = plt.subplots(dpi=100)\n",
    "ax.bar(list(counter.keys()), list(counter.values()))\n",
    "ax.set_title(\"Class information\")\n",
    "plt.show()"
   ]
  },
  {
   "cell_type": "markdown",
   "metadata": {},
   "source": [
    "Splitting file into review and target vars"
   ]
  },
  {
   "cell_type": "code",
   "execution_count": 33,
   "metadata": {},
   "outputs": [],
   "source": [
    "X, y = reviews[\"Review\"],reviews[\"Class\"]"
   ]
  },
  {
   "cell_type": "markdown",
   "metadata": {},
   "source": [
    "Preprocess function"
   ]
  },
  {
   "cell_type": "code",
   "execution_count": 34,
   "metadata": {},
   "outputs": [],
   "source": [
    "from nltk.stem import WordNetLemmatizer\n",
    "\n",
    "def DocPreproc(X):\n",
    "    \n",
    "    documents = []\n",
    "    \n",
    "    stemmer = WordNetLemmatizer()\n",
    "\n",
    "    for sen in range(0, (len(X))):  \n",
    "        # Remove all the special characters\n",
    "        document = re.sub(r'\\W', ' ', str(X[sen]))\n",
    "\n",
    "        # remove all single characters\n",
    "        document = re.sub(r'\\s+[a-zA-Z]\\s+', ' ', document)\n",
    "\n",
    "        # Remove single characters from the start\n",
    "        document = re.sub(r'\\^[a-zA-Z]\\s+', ' ', document) \n",
    "\n",
    "        # Substituting multiple spaces with single space\n",
    "        document = re.sub(r'\\s+', ' ', document, flags=re.I)\n",
    "\n",
    "        # Converting to Lowercase\n",
    "        document = document.lower()\n",
    "\n",
    "        # Lemmatization\n",
    "        document = document.split()\n",
    "\n",
    "        document = [stemmer.lemmatize(word) for word in document]\n",
    "        document = ' '.join(document)\n",
    "\n",
    "        documents.append(document)\n",
    "    \n",
    "    return(documents)"
   ]
  },
  {
   "cell_type": "code",
   "execution_count": 35,
   "metadata": {},
   "outputs": [],
   "source": [
    "X_raw = DocPreproc(X)"
   ]
  },
  {
   "cell_type": "markdown",
   "metadata": {},
   "source": [
    "CV RF and KNN methods for best parameters"
   ]
  },
  {
   "cell_type": "code",
   "execution_count": 72,
   "metadata": {},
   "outputs": [
    {
     "name": "stdout",
     "output_type": "stream",
     "text": [
      "0.6886137685237291\n",
      "{'tfidfv__min_df': 10, 'tfidfv__max_df': 0.3, 'classifier__n_estimators': 100, 'tfidfv__max_features': 1000}\n",
      "Time elapsed: {} s 203.0\n"
     ]
    }
   ],
   "source": [
    "start = time.time()\n",
    "pipe = Pipeline([(\"tfidfv\", TfidfVectorizer(stop_words=stopwords.words('english'))),\n",
    "                 (\"classifier\", RandomForestClassifier())])\n",
    "\n",
    "parameters = {\"tfidfv__max_features\": (100,1000),\n",
    "              \"tfidfv__min_df\": (5,10),\n",
    "              \"tfidfv__max_df\": (0.3,0.5),\n",
    "              \"classifier__n_estimators\": (10,100),\n",
    "             }\n",
    "\n",
    "grid = GridSearchCV(pipe, cv=3, n_jobs=1, param_grid=parameters)\n",
    "grid.fit(X_raw, y)\n",
    "\n",
    "print(grid.best_score_)\n",
    "print(grid.best_params_)\n",
    "\n",
    "print(\"Time elapsed: {} s\",round(time.time()-start,0))"
   ]
  },
  {
   "cell_type": "code",
   "execution_count": 8,
   "metadata": {},
   "outputs": [
    {
     "name": "stdout",
     "output_type": "stream",
     "text": [
      "0.6541924592009004\n",
      "{'tfidfv__min_df': 5, 'tfidfv__max_df': 0.3, 'classifier__n_neighbors': 50, 'tfidfv__max_features': 5000}\n",
      "Time elapsed: {} s 2409.0\n"
     ]
    }
   ],
   "source": [
    "start = time.time()\n",
    "pipe = Pipeline([(\"tfidfv\", TfidfVectorizer(stop_words=stopwords.words('english'))),\n",
    "                 (\"classifier\", KNeighborsClassifier())])\n",
    "\n",
    "parameters = {\"tfidfv__max_features\": (100,1000,3000,5000),\n",
    "              \"tfidfv__min_df\": (5,10,50,100),\n",
    "              \"tfidfv__max_df\": (0.3,0.5,0.7),\n",
    "              \"classifier__n_neighbors\": (10,20,50,100),\n",
    "             }\n",
    "\n",
    "grid = GridSearchCV(pipe, cv=3, n_jobs=1, param_grid=parameters)\n",
    "grid.fit(X_raw, y)\n",
    "\n",
    "print(grid.best_score_)\n",
    "print(grid.best_params_)\n",
    "\n",
    "print(\"Time elapsed: {} s\",round(time.time()-start,0))"
   ]
  },
  {
   "cell_type": "markdown",
   "metadata": {},
   "source": [
    "Retraining models with best parameters from GridSearch"
   ]
  },
  {
   "cell_type": "code",
   "execution_count": 36,
   "metadata": {},
   "outputs": [],
   "source": [
    "df = pd.DataFrame(columns=[\"Method\",\"Time\",\"Acc\",\"Balanced Acc\",\"F1 Score\",\"Precision\",\"Recall\"])"
   ]
  },
  {
   "cell_type": "markdown",
   "metadata": {},
   "source": [
    "Training best parameter RF model"
   ]
  },
  {
   "cell_type": "code",
   "execution_count": 37,
   "metadata": {},
   "outputs": [],
   "source": [
    "tfidfconverter = TfidfVectorizer(max_features=5000, min_df=5, max_df=0.5, stop_words=stopwords.words('english'))  \n",
    "X = tfidfconverter.fit_transform(X_raw).toarray()  \n",
    "from sklearn.model_selection import train_test_split  \n",
    "X_train, X_test, y_train, y_test = train_test_split(X, y, test_size=0.2, random_state=0)  \n",
    "start = time.time()\n",
    "from sklearn.ensemble import RandomForestClassifier\n",
    "classifier = RandomForestClassifier(n_estimators=100, random_state=0)  \n",
    "classifier.fit(X_train, y_train) \n",
    "rf_time = time.time()-start\n",
    "print(\"RF model creation took: {}\".format(rf_time))\n",
    "y_pred = classifier.predict(X_test)  \n",
    "\n",
    "from sklearn.metrics import classification_report, confusion_matrix, accuracy_score, balanced_accuracy_score, f1_score, precision_score, recall_score\n",
    "\n",
    "print(confusion_matrix(y_test,y_pred))  \n",
    "print(classification_report(y_test,y_pred)) \n",
    "\n",
    "print(accuracy_score(y_test, y_pred))\n",
    "print(balanced_accuracy_score(y_test, y_pred))\n",
    "print(f1_score(y_test, y_pred))\n",
    "print(precision_score(y_test, y_pred))\n",
    "print(recall_score(y_test, y_pred))\n",
    "\n",
    "df = df.append({\"Method\": \"RF\",\n",
    "                \"Time\": rf_time,\n",
    "               \"Acc\":accuracy_score(y_test, y_pred),\n",
    "               \"Balanced Acc\":balanced_accuracy_score(y_test, y_pred),\n",
    "               \"F1 Score\":f1_score(y_test, y_pred),\n",
    "               \"Precision\":precision_score(y_test, y_pred),\n",
    "               \"Recall\":recall_score(y_test, y_pred)},\n",
    "               ignore_index = True)"
   ]
  },
  {
   "cell_type": "markdown",
   "metadata": {},
   "source": [
    "Training best parameter KNN model"
   ]
  },
  {
   "cell_type": "code",
   "execution_count": 43,
   "metadata": {},
   "outputs": [
    {
     "name": "stdout",
     "output_type": "stream",
     "text": [
      "5.726821660995483\n",
      "[[1072   39]\n",
      " [ 680  342]]\n",
      "              precision    recall  f1-score   support\n",
      "\n",
      "           0       0.61      0.96      0.75      1111\n",
      "           1       0.90      0.33      0.49      1022\n",
      "\n",
      "   micro avg       0.66      0.66      0.66      2133\n",
      "   macro avg       0.75      0.65      0.62      2133\n",
      "weighted avg       0.75      0.66      0.62      2133\n",
      "\n",
      "0.6629160806375997\n",
      "0.649767227211958\n",
      "0.48752672843905914\n",
      "0.8976377952755905\n",
      "0.33463796477495106\n"
     ]
    }
   ],
   "source": [
    "tfidfconverter = TfidfVectorizer(max_features=5000, min_df=5, max_df=0.3, stop_words=stopwords.words('english'))  \n",
    "X = tfidfconverter.fit_transform(X_raw).toarray()  \n",
    "from sklearn.model_selection import train_test_split  \n",
    "X_train, X_test, y_train, y_test = train_test_split(X, y, test_size=0.2, random_state=0) \n",
    "\n",
    "\n",
    "start = time.time()\n",
    "classifier = KNeighborsClassifier(n_neighbors=50) \n",
    "classifier.fit(X_train, y_train) \n",
    "knn_time = time.time()-start\n",
    "print(knn_time)\n",
    "\n",
    "\n",
    "y_pred = classifier.predict(X_test)  \n",
    "\n",
    "\n",
    "print(confusion_matrix(y_test,y_pred))  \n",
    "print(classification_report(y_test,y_pred)) \n",
    "print(accuracy_score(y_test, y_pred))\n",
    "print(balanced_accuracy_score(y_test, y_pred))\n",
    "print(f1_score(y_test, y_pred))\n",
    "print(precision_score(y_test, y_pred))\n",
    "print(recall_score(y_test, y_pred))\n",
    "\n",
    "df = df.append({\"Method\": \"KNN\",\n",
    "                \"Time\": rf_time,\n",
    "               \"Acc\":accuracy_score(y_test, y_pred),\n",
    "               \"Balanced Acc\":balanced_accuracy_score(y_test, y_pred),\n",
    "               \"F1 Score\":f1_score(y_test, y_pred),\n",
    "               \"Precision\":precision_score(y_test, y_pred),\n",
    "               \"Recall\":recall_score(y_test, y_pred)},\n",
    "               ignore_index = True)"
   ]
  },
  {
   "cell_type": "markdown",
   "metadata": {},
   "source": [
    "Results dataframe"
   ]
  },
  {
   "cell_type": "code",
   "execution_count": 58,
   "metadata": {},
   "outputs": [
    {
     "data": {
      "text/html": [
       "<div>\n",
       "<style scoped>\n",
       "    .dataframe tbody tr th:only-of-type {\n",
       "        vertical-align: middle;\n",
       "    }\n",
       "\n",
       "    .dataframe tbody tr th {\n",
       "        vertical-align: top;\n",
       "    }\n",
       "\n",
       "    .dataframe thead th {\n",
       "        text-align: right;\n",
       "    }\n",
       "</style>\n",
       "<table border=\"1\" class=\"dataframe\">\n",
       "  <thead>\n",
       "    <tr style=\"text-align: right;\">\n",
       "      <th></th>\n",
       "      <th>Method</th>\n",
       "      <th>Time</th>\n",
       "      <th>Acc</th>\n",
       "      <th>Balanced Acc</th>\n",
       "      <th>F1 Score</th>\n",
       "      <th>Precision</th>\n",
       "      <th>Recall</th>\n",
       "    </tr>\n",
       "  </thead>\n",
       "  <tbody>\n",
       "    <tr>\n",
       "      <th>0</th>\n",
       "      <td>RF</td>\n",
       "      <td>142.171779</td>\n",
       "      <td>0.688701</td>\n",
       "      <td>0.686904</td>\n",
       "      <td>0.664646</td>\n",
       "      <td>0.686848</td>\n",
       "      <td>0.643836</td>\n",
       "    </tr>\n",
       "    <tr>\n",
       "      <th>1</th>\n",
       "      <td>KNN</td>\n",
       "      <td>142.171779</td>\n",
       "      <td>0.662916</td>\n",
       "      <td>0.649767</td>\n",
       "      <td>0.487527</td>\n",
       "      <td>0.897638</td>\n",
       "      <td>0.334638</td>\n",
       "    </tr>\n",
       "  </tbody>\n",
       "</table>\n",
       "</div>"
      ],
      "text/plain": [
       "  Method        Time       Acc  Balanced Acc  F1 Score  Precision    Recall\n",
       "0     RF  142.171779  0.688701      0.686904  0.664646   0.686848  0.643836\n",
       "1    KNN  142.171779  0.662916      0.649767  0.487527   0.897638  0.334638"
      ]
     },
     "execution_count": 58,
     "metadata": {},
     "output_type": "execute_result"
    }
   ],
   "source": [
    "df"
   ]
  },
  {
   "cell_type": "markdown",
   "metadata": {},
   "source": [
    "Testing on input data with better model of 2 above"
   ]
  },
  {
   "cell_type": "code",
   "execution_count": 60,
   "metadata": {},
   "outputs": [
    {
     "data": {
      "text/plain": [
       "RandomForestClassifier(bootstrap=True, class_weight=None, criterion='gini',\n",
       "            max_depth=None, max_features='auto', max_leaf_nodes=None,\n",
       "            min_impurity_decrease=0.0, min_impurity_split=None,\n",
       "            min_samples_leaf=1, min_samples_split=2,\n",
       "            min_weight_fraction_leaf=0.0, n_estimators=100, n_jobs=None,\n",
       "            oob_score=False, random_state=0, verbose=0, warm_start=False)"
      ]
     },
     "execution_count": 60,
     "metadata": {},
     "output_type": "execute_result"
    }
   ],
   "source": [
    "tfidfconverter = TfidfVectorizer(max_features=5000, min_df=5, max_df=0.5, stop_words=stopwords.words('english'))  \n",
    "X = tfidfconverter.fit_transform(X_raw).toarray()  \n",
    "X_train, X_test, y_train, y_test = train_test_split(X, y, test_size=0.2, random_state=0)  \n",
    "classifier = RandomForestClassifier(n_estimators=100, random_state=0)  \n",
    "classifier.fit(X_train, y_train) "
   ]
  },
  {
   "cell_type": "code",
   "execution_count": 66,
   "metadata": {},
   "outputs": [
    {
     "name": "stdout",
     "output_type": "stream",
     "text": [
      "Negative propobility: 90.0 %\n",
      "Positive propobility: 10.0 %\n"
     ]
    }
   ],
   "source": [
    "input=['I Hate this movie']\n",
    "X_new = tfidfconverter.transform(input).toarray() \n",
    "classifier.predict(X_new)\n",
    "y_pred = classifier.predict_proba(X_new)  \n",
    "print(\"Negative propobility: {} %\".format(round(y_pred[0][0]*100,2)))\n",
    "print(\"Positive propobility: {} %\".format(round(y_pred[0][1]*100,2)))"
   ]
  },
  {
   "cell_type": "markdown",
   "metadata": {},
   "source": [
    "Saving best model and converter for later usage"
   ]
  },
  {
   "cell_type": "code",
   "execution_count": 141,
   "metadata": {},
   "outputs": [],
   "source": [
    "with open('text_classifier', 'wb') as picklefile:  \n",
    "    pickle.dump(classifier,picklefile)\n",
    "with open('converter', 'wb') as picklefile:  \n",
    "    pickle.dump(tfidfconverter,picklefile)"
   ]
  }
 ],
 "metadata": {
  "kernelspec": {
   "display_name": "Python 3",
   "language": "python",
   "name": "python3"
  },
  "language_info": {
   "codemirror_mode": {
    "name": "ipython",
    "version": 3
   },
   "file_extension": ".py",
   "mimetype": "text/x-python",
   "name": "python",
   "nbconvert_exporter": "python",
   "pygments_lexer": "ipython3",
   "version": "3.5.6"
  }
 },
 "nbformat": 4,
 "nbformat_minor": 2
}
